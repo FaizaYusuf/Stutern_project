{
 "cells": [
  {
   "cell_type": "markdown",
   "id": "28c12f4a-512d-4a18-8640-45dd48ae8b3c",
   "metadata": {},
   "source": [
    "# Assignment 2 (Week 2)\n",
    "\n",
    ">**Note**: Late submissions are ***`penalized`***.\n",
    "\n",
    "## Name: FAIZA YUSUF"
   ]
  },
  {
   "cell_type": "code",
   "execution_count": 4,
   "id": "5aba3d86-630f-4a40-bbf6-6e3cde1e44b9",
   "metadata": {},
   "outputs": [],
   "source": [
    "import pandas as pd\n",
    "import sqlite3"
   ]
  },
  {
   "cell_type": "code",
   "execution_count": 2,
   "id": "ba066a48",
   "metadata": {},
   "outputs": [],
   "source": [
    "%load_ext sql"
   ]
  },
  {
   "cell_type": "code",
   "execution_count": 5,
   "id": "e10e5157",
   "metadata": {},
   "outputs": [],
   "source": [
    "%sql sqlite:///week_2.db"
   ]
  },
  {
   "cell_type": "markdown",
   "id": "6766dadf-bb90-45ee-93aa-01db1ad5c87e",
   "metadata": {
    "tags": []
   },
   "source": [
    "### The Database can be found [here](https://drive.google.com/file/d/1uIPkJWIHyZ8iQD_tQlM_K-ANoT_Bpy8P/view?usp=sharing)\n",
    "\n",
    "> Run the command below to see all the tables present in the SQLite DB.\n",
    "\n",
    "```sql\n",
    "SELECT name FROM sqlite_master;\n",
    "```\n",
    "\n",
    "<hr>\n",
    "<br>"
   ]
  },
  {
   "cell_type": "code",
   "execution_count": 13,
   "id": "0ffae135",
   "metadata": {},
   "outputs": [
    {
     "name": "stdout",
     "output_type": "stream",
     "text": [
      " * sqlite:///week_2.db\n",
      "Done.\n"
     ]
    },
    {
     "data": {
      "text/html": [
       "<table>\n",
       "    <tr>\n",
       "        <th>name</th>\n",
       "    </tr>\n",
       "    <tr>\n",
       "        <td>customers</td>\n",
       "    </tr>\n",
       "    <tr>\n",
       "        <td>sqlite_sequence</td>\n",
       "    </tr>\n",
       "    <tr>\n",
       "        <td>orders</td>\n",
       "    </tr>\n",
       "    <tr>\n",
       "        <td>employee</td>\n",
       "    </tr>\n",
       "    <tr>\n",
       "        <td>department</td>\n",
       "    </tr>\n",
       "    <tr>\n",
       "        <td>students</td>\n",
       "    </tr>\n",
       "    <tr>\n",
       "        <td>sqlite_autoindex_students_1</td>\n",
       "    </tr>\n",
       "    <tr>\n",
       "        <td>products</td>\n",
       "    </tr>\n",
       "</table>"
      ],
      "text/plain": [
       "[('customers',),\n",
       " ('sqlite_sequence',),\n",
       " ('orders',),\n",
       " ('employee',),\n",
       " ('department',),\n",
       " ('students',),\n",
       " ('sqlite_autoindex_students_1',),\n",
       " ('products',)]"
      ]
     },
     "execution_count": 13,
     "metadata": {},
     "output_type": "execute_result"
    }
   ],
   "source": [
    "%%sql\n",
    "SELECT name FROM sqlite_master;"
   ]
  },
  {
   "cell_type": "markdown",
   "id": "2e83bc59-806f-4e10-8bdf-555ff25f28eb",
   "metadata": {
    "tags": []
   },
   "source": [
    "## Qs 1: \n",
    "\n",
    "a. Given the table, `customers` and `orders` shown below, use a **subquery** to find the **customers** that did ***NOT*** place any orders. Display only the customer name(s).\n",
    "\n",
    "**`customers`**\n",
    "\n",
    "![image.png](https://i.postimg.cc/sx2WK6v3/image.png)\n",
    "\n",
    "\n",
    "**`orders`**\n",
    "\n",
    "![image.png](https://i.postimg.cc/T2H5fcKW/image.png)\n",
    "\n",
    "b. Given the `products` table shown below:\n",
    "\n",
    "[![image.png](https://i.postimg.cc/W18dpLXC/image.png)](https://postimg.cc/DSWv5DVP)\n",
    "\n",
    "write a query that returns the price of each product at every store. Your result should look like this:\n",
    "\n",
    "[![image.png](https://i.postimg.cc/s235K4Nd/image.png)](https://postimg.cc/FYnfH3vD)\n",
    "\n",
    "**Hint:** Use `CASE` statement.\n",
    "\n",
    "### NOTE: You must use a single query."
   ]
  },
  {
   "cell_type": "code",
   "execution_count": null,
   "id": "50d26019",
   "metadata": {},
   "outputs": [],
   "source": [
    "#1a"
   ]
  },
  {
   "cell_type": "code",
   "execution_count": 8,
   "id": "650db285-3670-4813-8216-751a2b86a803",
   "metadata": {},
   "outputs": [
    {
     "name": "stdout",
     "output_type": "stream",
     "text": [
      " * sqlite:///week_2.db\n",
      "Done.\n"
     ]
    },
    {
     "data": {
      "text/html": [
       "<table>\n",
       "    <tr>\n",
       "        <th>name</th>\n",
       "    </tr>\n",
       "    <tr>\n",
       "        <td>Afam</td>\n",
       "    </tr>\n",
       "    <tr>\n",
       "        <td>Deborah</td>\n",
       "    </tr>\n",
       "</table>"
      ],
      "text/plain": [
       "[('Afam',), ('Deborah',)]"
      ]
     },
     "execution_count": 8,
     "metadata": {},
     "output_type": "execute_result"
    }
   ],
   "source": [
    "%%sql\n",
    "SELECT a.name FROM customers a\n",
    "JOIN orders b\n",
    "ON a.id = b.id\n",
    "WHERE order_id is null"
   ]
  },
  {
   "cell_type": "code",
   "execution_count": null,
   "id": "b03d078a",
   "metadata": {},
   "outputs": [],
   "source": [
    "#1b"
   ]
  },
  {
   "cell_type": "code",
   "execution_count": 238,
   "id": "05ed516b-096d-4a1e-9bb6-1ad0e8f87b99",
   "metadata": {
    "scrolled": true
   },
   "outputs": [
    {
     "name": "stdout",
     "output_type": "stream",
     "text": [
      " * sqlite:///week_2.db\n",
      "Done.\n"
     ]
    },
    {
     "data": {
      "text/html": [
       "<table>\n",
       "    <tr>\n",
       "        <th>id</th>\n",
       "        <th>store_a</th>\n",
       "        <th>store_b</th>\n",
       "        <th>store_c</th>\n",
       "    </tr>\n",
       "    <tr>\n",
       "        <td>0</td>\n",
       "        <td>10</td>\n",
       "        <td>11</td>\n",
       "        <td>12</td>\n",
       "    </tr>\n",
       "    <tr>\n",
       "        <td>1</td>\n",
       "        <td>33</td>\n",
       "        <td>35</td>\n",
       "        <td>34</td>\n",
       "    </tr>\n",
       "</table>"
      ],
      "text/plain": [
       "[(0, 10, 11, 12), (1, 33, 35, 34)]"
      ]
     },
     "execution_count": 238,
     "metadata": {},
     "output_type": "execute_result"
    }
   ],
   "source": [
    "%%sql\n",
    "select a.id, store_a, store_b, store_c\n",
    "From (\n",
    "    SELECT id, store_a \n",
    "    FROM (\n",
    "          SELECT  id,\n",
    "      CASE \n",
    "          WHEN store = \"store a\" THEN price \n",
    "          END AS store_a,\n",
    "      CASE\n",
    "          WHEN store = \"store b\" THEN price \n",
    "          END AS store_b,\n",
    "      CASE\n",
    "          WHEN store = \"store c\" THEN price \n",
    "          END AS store_c\n",
    "          FROM products\n",
    "     where store_a is not null)) a\n",
    "join ( \n",
    "    SELECT id, store_b \n",
    "    FROM (\n",
    "          SELECT  id,\n",
    "      CASE \n",
    "          WHEN store = \"store a\" THEN price \n",
    "          END AS store_a,\n",
    "      CASE\n",
    "          WHEN store = \"store b\" THEN price \n",
    "          END AS store_b,\n",
    "      CASE\n",
    "          WHEN store = \"store c\" THEN price \n",
    "          END AS store_c\n",
    "          FROM products\n",
    "     where store_b is not null)) b\n",
    "on a.id = b.id \n",
    "join (\n",
    "    SELECT id, store_c\n",
    "FROM (\n",
    "          SELECT  id,\n",
    "      CASE \n",
    "          WHEN store = \"store a\" THEN price \n",
    "          END AS store_a,\n",
    "      CASE\n",
    "          WHEN store = \"store b\" THEN price \n",
    "          END AS store_b,\n",
    "      CASE\n",
    "          WHEN store = \"store c\" THEN price \n",
    "          END AS store_c\n",
    "          FROM products\n",
    "     where store_c is not null))c\n",
    "on a.id = c.id"
   ]
  },
  {
   "cell_type": "code",
   "execution_count": null,
   "id": "2e74513c",
   "metadata": {},
   "outputs": [],
   "source": [
    "#or"
   ]
  },
  {
   "cell_type": "code",
   "execution_count": 241,
   "id": "355cbf66-8e5a-41af-b3ec-dd9017f6333c",
   "metadata": {},
   "outputs": [
    {
     "name": "stdout",
     "output_type": "stream",
     "text": [
      " * sqlite:///week_2.db\n",
      "Done.\n"
     ]
    },
    {
     "data": {
      "text/html": [
       "<table>\n",
       "    <tr>\n",
       "        <th>id</th>\n",
       "        <th>store_a</th>\n",
       "        <th>store_b</th>\n",
       "        <th>store_c</th>\n",
       "    </tr>\n",
       "    <tr>\n",
       "        <td>0</td>\n",
       "        <td>10</td>\n",
       "        <td>11</td>\n",
       "        <td>12</td>\n",
       "    </tr>\n",
       "    <tr>\n",
       "        <td>1</td>\n",
       "        <td>33</td>\n",
       "        <td>35</td>\n",
       "        <td>34</td>\n",
       "    </tr>\n",
       "</table>"
      ],
      "text/plain": [
       "[(0, 10, 11, 12), (1, 33, 35, 34)]"
      ]
     },
     "execution_count": 241,
     "metadata": {},
     "output_type": "execute_result"
    }
   ],
   "source": [
    "%%sql\n",
    "with case_query as (\n",
    "    SELECT  id,\n",
    "      CASE \n",
    "          WHEN store = \"store a\" THEN price \n",
    "          END AS store_a,\n",
    "      CASE\n",
    "          WHEN store = \"store b\" THEN price \n",
    "          END AS store_b,\n",
    "      CASE\n",
    "          WHEN store = \"store c\" THEN price \n",
    "          END AS store_c\n",
    "          FROM products\n",
    "             )\n",
    "select a.id, store_a, store_b, store_c\n",
    "From (\n",
    "    SELECT id, store_a \n",
    "    FROM case_query\n",
    "     where store_a is not null) a\n",
    "join ( \n",
    "    SELECT id, store_b \n",
    "    FROM case_query\n",
    "     where store_b is not null) b\n",
    "on a.id = b.id \n",
    "join (\n",
    "    SELECT id, store_c\n",
    "FROM case_query\n",
    "     where store_c is not null)c\n",
    "on a.id = c.id"
   ]
  },
  {
   "cell_type": "markdown",
   "id": "3aa4543f-ee4e-4288-bee3-6a7ad529c88d",
   "metadata": {
    "tags": []
   },
   "source": [
    "## Qs 2: \n",
    "\n",
    "Given the tables `employee` and `department` shown below:\n",
    "\n",
    "![image.png](https://i.postimg.cc/bw0J574p/image.png)\n",
    "\n",
    "a. Write a query that generates the table shown below:\n",
    "\n",
    "![image](https://i.postimg.cc/hjc3rdTK/image.pnghttps://i.postimg.cc/hjc3rdTK/image.png)\n",
    "\n",
    "b. Write a query that determines the **highest earner** in **each department**.\n",
    "\n",
    "c. Write a query that shows all the employees in each department **except** the **lowest earner**. i.e generate the table below\n",
    "\n",
    "![image.png](https://i.postimg.cc/MHcmw7Q0/image.png)"
   ]
  },
  {
   "cell_type": "code",
   "execution_count": null,
   "id": "8326d3f4",
   "metadata": {},
   "outputs": [],
   "source": [
    "#2a"
   ]
  },
  {
   "cell_type": "code",
   "execution_count": 72,
   "id": "53a65238-f4e5-4ff2-82e4-77b659304025",
   "metadata": {
    "scrolled": true
   },
   "outputs": [
    {
     "name": "stdout",
     "output_type": "stream",
     "text": [
      " * sqlite:///week_2.db\n",
      "Done.\n"
     ]
    },
    {
     "data": {
      "text/html": [
       "<table>\n",
       "    <tr>\n",
       "        <th>name</th>\n",
       "        <th>salary</th>\n",
       "        <th>dept_name</th>\n",
       "    </tr>\n",
       "    <tr>\n",
       "        <td>Felix</td>\n",
       "        <td>33000</td>\n",
       "        <td>IT</td>\n",
       "    </tr>\n",
       "    <tr>\n",
       "        <td>Okafor</td>\n",
       "        <td>25000</td>\n",
       "        <td>IT</td>\n",
       "    </tr>\n",
       "    <tr>\n",
       "        <td>Gafar</td>\n",
       "        <td>41000</td>\n",
       "        <td>IT</td>\n",
       "    </tr>\n",
       "    <tr>\n",
       "        <td>Amanda</td>\n",
       "        <td>53000</td>\n",
       "        <td>IT</td>\n",
       "    </tr>\n",
       "    <tr>\n",
       "        <td>Steve</td>\n",
       "        <td>32000</td>\n",
       "        <td>Sales</td>\n",
       "    </tr>\n",
       "    <tr>\n",
       "        <td>Bola</td>\n",
       "        <td>31000</td>\n",
       "        <td>Sales</td>\n",
       "    </tr>\n",
       "    <tr>\n",
       "        <td>Babalola</td>\n",
       "        <td>30200</td>\n",
       "        <td>Sales</td>\n",
       "    </tr>\n",
       "    <tr>\n",
       "        <td>Adigun</td>\n",
       "        <td>30000</td>\n",
       "        <td>Sales</td>\n",
       "    </tr>\n",
       "</table>"
      ],
      "text/plain": [
       "[('Felix', 33000, 'IT'),\n",
       " ('Okafor', 25000, 'IT'),\n",
       " ('Gafar', 41000, 'IT'),\n",
       " ('Amanda', 53000, 'IT'),\n",
       " ('Steve', 32000, 'Sales'),\n",
       " ('Bola', 31000, 'Sales'),\n",
       " ('Babalola', 30200, 'Sales'),\n",
       " ('Adigun', 30000, 'Sales')]"
      ]
     },
     "execution_count": 72,
     "metadata": {},
     "output_type": "execute_result"
    }
   ],
   "source": [
    "%%sql\n",
    "SELECT a.name, a.salary, b.dept_name\n",
    "FROM employee a\n",
    "JOIN department b\n",
    "ON a.dept_id = b.id\n",
    "ORDER BY dept_name;"
   ]
  },
  {
   "cell_type": "code",
   "execution_count": null,
   "id": "71f99db5",
   "metadata": {},
   "outputs": [],
   "source": [
    "#2b"
   ]
  },
  {
   "cell_type": "code",
   "execution_count": 251,
   "id": "eab1bd72-e7f8-4d56-8c30-c889ad694be5",
   "metadata": {},
   "outputs": [
    {
     "name": "stdout",
     "output_type": "stream",
     "text": [
      " * sqlite:///week_2.db\n",
      "Done.\n"
     ]
    },
    {
     "data": {
      "text/html": [
       "<table>\n",
       "    <tr>\n",
       "        <th>name</th>\n",
       "        <th>salary</th>\n",
       "        <th>dept_name</th>\n",
       "    </tr>\n",
       "    <tr>\n",
       "        <td>Amanda</td>\n",
       "        <td>53000</td>\n",
       "        <td>IT</td>\n",
       "    </tr>\n",
       "    <tr>\n",
       "        <td>Steve</td>\n",
       "        <td>32000</td>\n",
       "        <td>Sales</td>\n",
       "    </tr>\n",
       "</table>"
      ],
      "text/plain": [
       "[('Amanda', 53000, 'IT'), ('Steve', 32000, 'Sales')]"
      ]
     },
     "execution_count": 251,
     "metadata": {},
     "output_type": "execute_result"
    }
   ],
   "source": [
    "%%sql\n",
    "WITH the_product AS\n",
    "   (SELECT a.name, a.salary, b.dept_name\n",
    "        FROM employee a\n",
    "        JOIN department b\n",
    "        ON a.dept_id = b.id)\n",
    "select name, max(salary) salary, dept_name from the_product\n",
    "group by dept_name;"
   ]
  },
  {
   "cell_type": "code",
   "execution_count": null,
   "id": "4c1618f9",
   "metadata": {},
   "outputs": [],
   "source": [
    "#2c"
   ]
  },
  {
   "cell_type": "code",
   "execution_count": 260,
   "id": "b23d3958-29cb-4238-95bc-7d29d7565084",
   "metadata": {},
   "outputs": [
    {
     "name": "stdout",
     "output_type": "stream",
     "text": [
      " * sqlite:///week_2.db\n",
      "Done.\n"
     ]
    },
    {
     "data": {
      "text/html": [
       "<table>\n",
       "    <tr>\n",
       "        <th>name</th>\n",
       "        <th>salary</th>\n",
       "        <th>dept_name</th>\n",
       "    </tr>\n",
       "    <tr>\n",
       "        <td>Felix</td>\n",
       "        <td>33000</td>\n",
       "        <td>IT</td>\n",
       "    </tr>\n",
       "    <tr>\n",
       "        <td>Okafor</td>\n",
       "        <td>25000</td>\n",
       "        <td>IT</td>\n",
       "    </tr>\n",
       "    <tr>\n",
       "        <td>Gafar</td>\n",
       "        <td>41000</td>\n",
       "        <td>IT</td>\n",
       "    </tr>\n",
       "    <tr>\n",
       "        <td>Bola</td>\n",
       "        <td>31000</td>\n",
       "        <td>Sales</td>\n",
       "    </tr>\n",
       "    <tr>\n",
       "        <td>Babalola</td>\n",
       "        <td>30200</td>\n",
       "        <td>Sales</td>\n",
       "    </tr>\n",
       "    <tr>\n",
       "        <td>Adigun</td>\n",
       "        <td>30000</td>\n",
       "        <td>Sales</td>\n",
       "    </tr>\n",
       "</table>"
      ],
      "text/plain": [
       "[('Felix', 33000, 'IT'),\n",
       " ('Okafor', 25000, 'IT'),\n",
       " ('Gafar', 41000, 'IT'),\n",
       " ('Bola', 31000, 'Sales'),\n",
       " ('Babalola', 30200, 'Sales'),\n",
       " ('Adigun', 30000, 'Sales')]"
      ]
     },
     "execution_count": 260,
     "metadata": {},
     "output_type": "execute_result"
    }
   ],
   "source": [
    "%%sql\n",
    "select z.name, z.salary, z.dept_name \n",
    "from (\n",
    "      SELECT a.name, a.salary, b.dept_name\n",
    "      FROM employee a\n",
    "      JOIN department b\n",
    "      ON a.dept_id = b.id\n",
    "      ORDER BY dept_name) z\n",
    "join (\n",
    "    WITH the_product AS\n",
    "   (SELECT a.name, a.salary, b.dept_name\n",
    "        FROM employee a\n",
    "        JOIN department b\n",
    "        ON a.dept_id = b.id)\n",
    "select name, max(salary) salary, dept_name from the_product\n",
    "group by dept_name)y\n",
    "on z.dept_name = y.dept_name\n",
    "where z.salary != y.salary\n",
    "order by z.dept_name"
   ]
  },
  {
   "cell_type": "markdown",
   "id": "46c59968-6566-4959-93ed-5806471f39ae",
   "metadata": {},
   "source": [
    "### Qs 3: Given the students table:\n",
    "\n",
    "a. Write a query that creates a new column `percentage_score`.  The `percentage_score` is the mean of all the subjects for each student. Round the `percentage_score` to 2 decimal points and sort in descending order.\n",
    "\n",
    "b. Write a query that selects **ONLY** the students that scored more than the mean of the `percentage_score`."
   ]
  },
  {
   "cell_type": "code",
   "execution_count": null,
   "id": "8d3af28c",
   "metadata": {},
   "outputs": [],
   "source": [
    "#3a"
   ]
  },
  {
   "cell_type": "code",
   "execution_count": 188,
   "id": "0d4dd56e-948d-4ff5-a068-e259c8d64c8a",
   "metadata": {
    "scrolled": true
   },
   "outputs": [
    {
     "name": "stdout",
     "output_type": "stream",
     "text": [
      " * sqlite:///week_2.db\n",
      "Done.\n"
     ]
    },
    {
     "data": {
      "text/html": [
       "<table>\n",
       "    <tr>\n",
       "        <th>matric_no</th>\n",
       "        <th>name</th>\n",
       "        <th>gender</th>\n",
       "        <th>maths</th>\n",
       "        <th>english</th>\n",
       "        <th>physics</th>\n",
       "        <th>percentage_score</th>\n",
       "    </tr>\n",
       "    <tr>\n",
       "        <td>ux-012-013</td>\n",
       "        <td>Emeka</td>\n",
       "        <td>M</td>\n",
       "        <td>95</td>\n",
       "        <td>84</td>\n",
       "        <td>94</td>\n",
       "        <td>91.0</td>\n",
       "    </tr>\n",
       "    <tr>\n",
       "        <td>ux-012-020</td>\n",
       "        <td>Ahmed</td>\n",
       "        <td>M</td>\n",
       "        <td>87</td>\n",
       "        <td>94</td>\n",
       "        <td>85</td>\n",
       "        <td>88.0</td>\n",
       "    </tr>\n",
       "    <tr>\n",
       "        <td>ux-012-016</td>\n",
       "        <td>Esther</td>\n",
       "        <td>F</td>\n",
       "        <td>93</td>\n",
       "        <td>77</td>\n",
       "        <td>91</td>\n",
       "        <td>87.0</td>\n",
       "    </tr>\n",
       "    <tr>\n",
       "        <td>ux-012-014</td>\n",
       "        <td>Agnes</td>\n",
       "        <td>F</td>\n",
       "        <td>80</td>\n",
       "        <td>69</td>\n",
       "        <td>88</td>\n",
       "        <td>79.0</td>\n",
       "    </tr>\n",
       "    <tr>\n",
       "        <td>ux-012-018</td>\n",
       "        <td>Ogechi</td>\n",
       "        <td>F</td>\n",
       "        <td>80</td>\n",
       "        <td>69</td>\n",
       "        <td>78</td>\n",
       "        <td>75.0</td>\n",
       "    </tr>\n",
       "    <tr>\n",
       "        <td>ux-012-023</td>\n",
       "        <td>Dave</td>\n",
       "        <td>M</td>\n",
       "        <td>77</td>\n",
       "        <td>69</td>\n",
       "        <td>70</td>\n",
       "        <td>72.0</td>\n",
       "    </tr>\n",
       "    <tr>\n",
       "        <td>ux-012-015</td>\n",
       "        <td>Alimat</td>\n",
       "        <td>F</td>\n",
       "        <td>69</td>\n",
       "        <td>69</td>\n",
       "        <td>77</td>\n",
       "        <td>71.0</td>\n",
       "    </tr>\n",
       "    <tr>\n",
       "        <td>ux-012-019</td>\n",
       "        <td>Steve</td>\n",
       "        <td>M</td>\n",
       "        <td>61</td>\n",
       "        <td>69</td>\n",
       "        <td>72</td>\n",
       "        <td>67.0</td>\n",
       "    </tr>\n",
       "    <tr>\n",
       "        <td>ux-012-024</td>\n",
       "        <td>Seyi</td>\n",
       "        <td>M</td>\n",
       "        <td>54</td>\n",
       "        <td>83</td>\n",
       "        <td>63</td>\n",
       "        <td>66.0</td>\n",
       "    </tr>\n",
       "    <tr>\n",
       "        <td>ux-012-021</td>\n",
       "        <td>Samantha</td>\n",
       "        <td>F</td>\n",
       "        <td>52</td>\n",
       "        <td>69</td>\n",
       "        <td>48</td>\n",
       "        <td>56.0</td>\n",
       "    </tr>\n",
       "    <tr>\n",
       "        <td>ux-012-022</td>\n",
       "        <td>Philip</td>\n",
       "        <td>M</td>\n",
       "        <td>51</td>\n",
       "        <td>39</td>\n",
       "        <td>45</td>\n",
       "        <td>45.0</td>\n",
       "    </tr>\n",
       "    <tr>\n",
       "        <td>ux-012-017</td>\n",
       "        <td>Fred</td>\n",
       "        <td>M</td>\n",
       "        <td>28</td>\n",
       "        <td>57</td>\n",
       "        <td>39</td>\n",
       "        <td>41.0</td>\n",
       "    </tr>\n",
       "</table>"
      ],
      "text/plain": [
       "[('ux-012-013', 'Emeka', 'M', 95, 84, 94, 91.0),\n",
       " ('ux-012-020', 'Ahmed', 'M', 87, 94, 85, 88.0),\n",
       " ('ux-012-016', 'Esther', 'F', 93, 77, 91, 87.0),\n",
       " ('ux-012-014', 'Agnes', 'F', 80, 69, 88, 79.0),\n",
       " ('ux-012-018', 'Ogechi', 'F', 80, 69, 78, 75.0),\n",
       " ('ux-012-023', 'Dave', 'M', 77, 69, 70, 72.0),\n",
       " ('ux-012-015', 'Alimat', 'F', 69, 69, 77, 71.0),\n",
       " ('ux-012-019', 'Steve', 'M', 61, 69, 72, 67.0),\n",
       " ('ux-012-024', 'Seyi', 'M', 54, 83, 63, 66.0),\n",
       " ('ux-012-021', 'Samantha', 'F', 52, 69, 48, 56.0),\n",
       " ('ux-012-022', 'Philip', 'M', 51, 39, 45, 45.0),\n",
       " ('ux-012-017', 'Fred', 'M', 28, 57, 39, 41.0)]"
      ]
     },
     "execution_count": 188,
     "metadata": {},
     "output_type": "execute_result"
    }
   ],
   "source": [
    "%%sql \n",
    "SELECT *, ROUND(((maths + english + physics)/3), 2) AS percentage_score FROM students\n",
    "ORDER BY percentage_score DESC;"
   ]
  },
  {
   "cell_type": "code",
   "execution_count": null,
   "id": "6f548f31",
   "metadata": {},
   "outputs": [],
   "source": [
    "#3b"
   ]
  },
  {
   "cell_type": "code",
   "execution_count": 186,
   "id": "e7633399-c0c2-4e74-af78-155dab778b99",
   "metadata": {},
   "outputs": [
    {
     "name": "stdout",
     "output_type": "stream",
     "text": [
      " * sqlite:///week_2.db\n",
      "Done.\n"
     ]
    },
    {
     "data": {
      "text/html": [
       "<table>\n",
       "    <tr>\n",
       "        <th>matric_no</th>\n",
       "        <th>name</th>\n",
       "        <th>gender</th>\n",
       "        <th>maths</th>\n",
       "        <th>english</th>\n",
       "        <th>physics</th>\n",
       "        <th>percentage_score</th>\n",
       "    </tr>\n",
       "    <tr>\n",
       "        <td>ux-012-013</td>\n",
       "        <td>Emeka</td>\n",
       "        <td>M</td>\n",
       "        <td>95</td>\n",
       "        <td>84</td>\n",
       "        <td>94</td>\n",
       "        <td>91.0</td>\n",
       "    </tr>\n",
       "    <tr>\n",
       "        <td>ux-012-020</td>\n",
       "        <td>Ahmed</td>\n",
       "        <td>M</td>\n",
       "        <td>87</td>\n",
       "        <td>94</td>\n",
       "        <td>85</td>\n",
       "        <td>88.0</td>\n",
       "    </tr>\n",
       "    <tr>\n",
       "        <td>ux-012-016</td>\n",
       "        <td>Esther</td>\n",
       "        <td>F</td>\n",
       "        <td>93</td>\n",
       "        <td>77</td>\n",
       "        <td>91</td>\n",
       "        <td>87.0</td>\n",
       "    </tr>\n",
       "    <tr>\n",
       "        <td>ux-012-014</td>\n",
       "        <td>Agnes</td>\n",
       "        <td>F</td>\n",
       "        <td>80</td>\n",
       "        <td>69</td>\n",
       "        <td>88</td>\n",
       "        <td>79.0</td>\n",
       "    </tr>\n",
       "    <tr>\n",
       "        <td>ux-012-018</td>\n",
       "        <td>Ogechi</td>\n",
       "        <td>F</td>\n",
       "        <td>80</td>\n",
       "        <td>69</td>\n",
       "        <td>78</td>\n",
       "        <td>75.0</td>\n",
       "    </tr>\n",
       "    <tr>\n",
       "        <td>ux-012-023</td>\n",
       "        <td>Dave</td>\n",
       "        <td>M</td>\n",
       "        <td>77</td>\n",
       "        <td>69</td>\n",
       "        <td>70</td>\n",
       "        <td>72.0</td>\n",
       "    </tr>\n",
       "    <tr>\n",
       "        <td>ux-012-015</td>\n",
       "        <td>Alimat</td>\n",
       "        <td>F</td>\n",
       "        <td>69</td>\n",
       "        <td>69</td>\n",
       "        <td>77</td>\n",
       "        <td>71.0</td>\n",
       "    </tr>\n",
       "</table>"
      ],
      "text/plain": [
       "[('ux-012-013', 'Emeka', 'M', 95, 84, 94, 91.0),\n",
       " ('ux-012-020', 'Ahmed', 'M', 87, 94, 85, 88.0),\n",
       " ('ux-012-016', 'Esther', 'F', 93, 77, 91, 87.0),\n",
       " ('ux-012-014', 'Agnes', 'F', 80, 69, 88, 79.0),\n",
       " ('ux-012-018', 'Ogechi', 'F', 80, 69, 78, 75.0),\n",
       " ('ux-012-023', 'Dave', 'M', 77, 69, 70, 72.0),\n",
       " ('ux-012-015', 'Alimat', 'F', 69, 69, 77, 71.0)]"
      ]
     },
     "execution_count": 186,
     "metadata": {},
     "output_type": "execute_result"
    }
   ],
   "source": [
    "%%sql\n",
    "SELECT *, ROUND(((maths + english + physics)/3), 2) AS percentage_score FROM students\n",
    "WHERE percentage_score > (\n",
    "                           SELECT ROUND(AVG(percentage_score),2) average_percentage_score\n",
    "                           FROM (SELECT *, ROUND(((maths + english + physics)/3), 2) AS percentage_score FROM students\n",
    "                           ORDER BY percentage_score DESC) temp\n",
    "                          )\n",
    "ORDER BY percentage_score DESC;"
   ]
  },
  {
   "cell_type": "code",
   "execution_count": null,
   "id": "2ac63ad5-738b-4e17-8245-59804b0cc8c0",
   "metadata": {},
   "outputs": [],
   "source": []
  }
 ],
 "metadata": {
  "kernelspec": {
   "display_name": "Python 3 (ipykernel)",
   "language": "python",
   "name": "python3"
  },
  "language_info": {
   "codemirror_mode": {
    "name": "ipython",
    "version": 3
   },
   "file_extension": ".py",
   "mimetype": "text/x-python",
   "name": "python",
   "nbconvert_exporter": "python",
   "pygments_lexer": "ipython3",
   "version": "3.9.12"
  }
 },
 "nbformat": 4,
 "nbformat_minor": 5
}
